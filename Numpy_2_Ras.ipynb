{
 "cells": [
  {
   "cell_type": "code",
   "execution_count": 3,
   "id": "e038e2c1",
   "metadata": {},
   "outputs": [],
   "source": [
    "from osgeo import gdal\n",
    "import numpy as np\n",
    "import os "
   ]
  },
  {
   "cell_type": "code",
   "execution_count": 4,
   "id": "4f5c3231",
   "metadata": {},
   "outputs": [],
   "source": [
    "#List of numpy arrays we have to process\n",
    "npdir1=r\"\\\\hydro-nas\\Team\\Projects\\5635_SFEI Carbon and GHG\\Accretion\\20211223\\np_arrays\"\n",
    "names1=[r\"\\Draft_1_1_ft\\Draft_1_1_ft_2056\",r'\\Draft_2_6_ft\\Draft_2_6_ft_2056']\n",
    "Paths=[npdir1+\"\\\\\"+name  for name in names1]"
   ]
  },
  {
   "cell_type": "code",
   "execution_count": 5,
   "id": "e3778595",
   "metadata": {},
   "outputs": [],
   "source": [
    "#Raster template. It needs to have the same dimentions as the numpy matrix \n",
    "\n",
    "#Directory of template\n",
    "ras_dir=r'\\\\hydro-nas\\Team\\Projects\\5635_SFEI Carbon and GHG\\GIS\\raster'\n",
    "#Name of template\n",
    "ras_temp_nam='Layout_Domain.tif'\n",
    "#Let's open the template raster in gdal\n",
    "data0=gdal.Open(os.path.join(ras_dir,ras_temp_nam))\n",
    "#Transformation\n",
    "geotrans=data0.GetGeoTransform()\n",
    "#Projection\n",
    "proj=data0.GetProjection()\n",
    "#Raster dimension\n",
    "x_pixels,y_pixels=data0.RasterXSize,data0.RasterYSize\n",
    "#Tiff driver\n",
    "driver = gdal.GetDriverByName('GTiff')\n",
    "\n",
    "#Now, let's loop through the numpy arrays and exporter to rasters with the same dimensions as the template\n",
    "for path in Paths:\n",
    "    #Names of arrays\n",
    "    nam=path[path.rfind(\"\\\\\")+1:]\n",
    "    #path where we'll export the new raster\n",
    "    dst_filename = os.path.join(ras_dir,nam+\".tif\")\n",
    "    #Let's create the empty raster\n",
    "    dataset = None\n",
    "    dataset = driver.Create(dst_filename,x_pixels, y_pixels, 1,gdal.GDT_Float32)\n",
    "    #Let's load the numpy array we want to export\n",
    "    array=np.load(path+\".npy\")\n",
    "    #Let's write the content of the numpy array in the new raster\n",
    "    dataset.GetRasterBand(1).WriteArray(array)\n",
    "    #Let's set the transform of the new raster\n",
    "    dataset.SetGeoTransform(geotrans)   \n",
    "    # Let's set the projection of the new raster\n",
    "    dataset.SetProjection(proj)\n",
    "    #Writes new raster to disk\n",
    "    dataset.FlushCache()\n",
    "    #Closes the dataset\n",
    "    dataset=None\n"
   ]
  },
  {
   "cell_type": "code",
   "execution_count": null,
   "id": "e1ff9e35",
   "metadata": {},
   "outputs": [],
   "source": []
  }
 ],
 "metadata": {
  "kernelspec": {
   "display_name": "Python 3 (ipykernel)",
   "language": "python",
   "name": "python3"
  },
  "language_info": {
   "codemirror_mode": {
    "name": "ipython",
    "version": 3
   },
   "file_extension": ".py",
   "mimetype": "text/x-python",
   "name": "python",
   "nbconvert_exporter": "python",
   "pygments_lexer": "ipython3",
   "version": "3.10.0"
  }
 },
 "nbformat": 4,
 "nbformat_minor": 5
}
